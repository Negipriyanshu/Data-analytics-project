{
 "cells": [
  {
   "cell_type": "code",
   "execution_count": 1,
   "metadata": {},
   "outputs": [],
   "source": [
    "import pandas as pd"
   ]
  },
  {
   "cell_type": "code",
   "execution_count": 2,
   "metadata": {},
   "outputs": [],
   "source": [
    "df = pd.read_csv('mba_apps.csv', index_col=0)"
   ]
  },
  {
   "cell_type": "code",
   "execution_count": 3,
   "metadata": {},
   "outputs": [
    {
     "data": {
      "text/html": [
       "<div>\n",
       "<style scoped>\n",
       "    .dataframe tbody tr th:only-of-type {\n",
       "        vertical-align: middle;\n",
       "    }\n",
       "\n",
       "    .dataframe tbody tr th {\n",
       "        vertical-align: top;\n",
       "    }\n",
       "\n",
       "    .dataframe thead th {\n",
       "        text-align: right;\n",
       "    }\n",
       "</style>\n",
       "<table border=\"1\" class=\"dataframe\">\n",
       "  <thead>\n",
       "    <tr style=\"text-align: right;\">\n",
       "      <th></th>\n",
       "      <th>title</th>\n",
       "      <th>description</th>\n",
       "      <th>descriptionHTML</th>\n",
       "      <th>summary</th>\n",
       "      <th>installs</th>\n",
       "      <th>minInstalls</th>\n",
       "      <th>score</th>\n",
       "      <th>scoreText</th>\n",
       "      <th>ratings</th>\n",
       "      <th>reviews</th>\n",
       "      <th>...</th>\n",
       "      <th>updated</th>\n",
       "      <th>version</th>\n",
       "      <th>recentChanges</th>\n",
       "      <th>comments</th>\n",
       "      <th>editorsChoice</th>\n",
       "      <th>appId</th>\n",
       "      <th>url</th>\n",
       "      <th>contentRatingDescription</th>\n",
       "      <th>familyGenre</th>\n",
       "      <th>familyGenreId</th>\n",
       "    </tr>\n",
       "  </thead>\n",
       "  <tbody>\n",
       "    <tr>\n",
       "      <th>0</th>\n",
       "      <td>NBA LIVE Mobile Basketball</td>\n",
       "      <td>Choose your path to greatness and build your s...</td>\n",
       "      <td>Choose your path to greatness and build your s...</td>\n",
       "      <td>Choose your path to greatness and build your N...</td>\n",
       "      <td>50,000,000+</td>\n",
       "      <td>50000000</td>\n",
       "      <td>4.089547</td>\n",
       "      <td>4.1</td>\n",
       "      <td>2231922.0</td>\n",
       "      <td>934254.0</td>\n",
       "      <td>...</td>\n",
       "      <td>1589385924000</td>\n",
       "      <td>4.3.40</td>\n",
       "      <td>The NBA LIVE Mobile season keeps moving. Every...</td>\n",
       "      <td>[]</td>\n",
       "      <td>True</td>\n",
       "      <td>com.ea.gp.nbamobile</td>\n",
       "      <td>https://play.google.com/store/apps/details?id=...</td>\n",
       "      <td>NaN</td>\n",
       "      <td>NaN</td>\n",
       "      <td>NaN</td>\n",
       "    </tr>\n",
       "    <tr>\n",
       "      <th>1</th>\n",
       "      <td>MBA Lessons - Become Better Managers</td>\n",
       "      <td>For Managers and Executives\\nLearn management ...</td>\n",
       "      <td>&lt;b&gt;For Managers and Executives&lt;/b&gt;&lt;br&gt;Learn ma...</td>\n",
       "      <td>Compiles the major management theories and les...</td>\n",
       "      <td>10,000+</td>\n",
       "      <td>10000</td>\n",
       "      <td>4.494382</td>\n",
       "      <td>4.5</td>\n",
       "      <td>89.0</td>\n",
       "      <td>43.0</td>\n",
       "      <td>...</td>\n",
       "      <td>1586068928000</td>\n",
       "      <td>1.15</td>\n",
       "      <td>Version 1.15&lt;br&gt;Minor bug fixes</td>\n",
       "      <td>[]</td>\n",
       "      <td>False</td>\n",
       "      <td>com.sunoneapps.mbalessons</td>\n",
       "      <td>https://play.google.com/store/apps/details?id=...</td>\n",
       "      <td>NaN</td>\n",
       "      <td>NaN</td>\n",
       "      <td>NaN</td>\n",
       "    </tr>\n",
       "  </tbody>\n",
       "</table>\n",
       "<p>2 rows × 47 columns</p>\n",
       "</div>"
      ],
      "text/plain": [
       "                                  title  \\\n",
       "0            NBA LIVE Mobile Basketball   \n",
       "1  MBA Lessons - Become Better Managers   \n",
       "\n",
       "                                         description  \\\n",
       "0  Choose your path to greatness and build your s...   \n",
       "1  For Managers and Executives\\nLearn management ...   \n",
       "\n",
       "                                     descriptionHTML  \\\n",
       "0  Choose your path to greatness and build your s...   \n",
       "1  <b>For Managers and Executives</b><br>Learn ma...   \n",
       "\n",
       "                                             summary     installs  \\\n",
       "0  Choose your path to greatness and build your N...  50,000,000+   \n",
       "1  Compiles the major management theories and les...      10,000+   \n",
       "\n",
       "   minInstalls     score  scoreText    ratings   reviews  ...        updated  \\\n",
       "0     50000000  4.089547        4.1  2231922.0  934254.0  ...  1589385924000   \n",
       "1        10000  4.494382        4.5       89.0      43.0  ...  1586068928000   \n",
       "\n",
       "   version                                      recentChanges comments  \\\n",
       "0   4.3.40  The NBA LIVE Mobile season keeps moving. Every...       []   \n",
       "1     1.15                    Version 1.15<br>Minor bug fixes       []   \n",
       "\n",
       "  editorsChoice                      appId  \\\n",
       "0          True        com.ea.gp.nbamobile   \n",
       "1         False  com.sunoneapps.mbalessons   \n",
       "\n",
       "                                                 url contentRatingDescription  \\\n",
       "0  https://play.google.com/store/apps/details?id=...                      NaN   \n",
       "1  https://play.google.com/store/apps/details?id=...                      NaN   \n",
       "\n",
       "  familyGenre familyGenreId  \n",
       "0         NaN           NaN  \n",
       "1         NaN           NaN  \n",
       "\n",
       "[2 rows x 47 columns]"
      ]
     },
     "execution_count": 3,
     "metadata": {},
     "output_type": "execute_result"
    }
   ],
   "source": [
    "df.head(2)"
   ]
  },
  {
   "cell_type": "code",
   "execution_count": 4,
   "metadata": {},
   "outputs": [
    {
     "name": "stdout",
     "output_type": "stream",
     "text": [
      "<class 'pandas.core.frame.DataFrame'>\n",
      "Index: 250 entries, 0 to 249\n",
      "Data columns (total 47 columns):\n",
      " #   Column                    Non-Null Count  Dtype  \n",
      "---  ------                    --------------  -----  \n",
      " 0   title                     250 non-null    object \n",
      " 1   description               250 non-null    object \n",
      " 2   descriptionHTML           250 non-null    object \n",
      " 3   summary                   250 non-null    object \n",
      " 4   installs                  250 non-null    object \n",
      " 5   minInstalls               250 non-null    int64  \n",
      " 6   score                     247 non-null    float64\n",
      " 7   scoreText                 247 non-null    float64\n",
      " 8   ratings                   247 non-null    float64\n",
      " 9   reviews                   247 non-null    float64\n",
      " 10  histogram                 250 non-null    object \n",
      " 11  price                     250 non-null    float64\n",
      " 12  free                      250 non-null    bool   \n",
      " 13  currency                  250 non-null    object \n",
      " 14  priceText                 250 non-null    object \n",
      " 15  offersIAP                 250 non-null    bool   \n",
      " 16  IAPRange                  62 non-null     object \n",
      " 17  size                      250 non-null    object \n",
      " 18  androidVersion            250 non-null    object \n",
      " 19  androidVersionText        250 non-null    object \n",
      " 20  developer                 250 non-null    object \n",
      " 21  developerId               250 non-null    object \n",
      " 22  developerEmail            250 non-null    object \n",
      " 23  developerWebsite          200 non-null    object \n",
      " 24  developerAddress          144 non-null    object \n",
      " 25  privacyPolicy             226 non-null    object \n",
      " 26  developerInternalID       250 non-null    int64  \n",
      " 27  genre                     250 non-null    object \n",
      " 28  genreId                   250 non-null    object \n",
      " 29  icon                      250 non-null    object \n",
      " 30  headerImage               250 non-null    object \n",
      " 31  screenshots               250 non-null    object \n",
      " 32  video                     55 non-null     object \n",
      " 33  videoImage                55 non-null     object \n",
      " 34  contentRating             250 non-null    object \n",
      " 35  adSupported               250 non-null    bool   \n",
      " 36  released                  246 non-null    object \n",
      " 37  updated                   250 non-null    int64  \n",
      " 38  version                   250 non-null    object \n",
      " 39  recentChanges             216 non-null    object \n",
      " 40  comments                  250 non-null    object \n",
      " 41  editorsChoice             250 non-null    bool   \n",
      " 42  appId                     250 non-null    object \n",
      " 43  url                       250 non-null    object \n",
      " 44  contentRatingDescription  8 non-null      object \n",
      " 45  familyGenre               1 non-null      object \n",
      " 46  familyGenreId             1 non-null      object \n",
      "dtypes: bool(4), float64(5), int64(3), object(35)\n",
      "memory usage: 86.9+ KB\n"
     ]
    }
   ],
   "source": [
    "df.info()"
   ]
  },
  {
   "cell_type": "code",
   "execution_count": 5,
   "metadata": {},
   "outputs": [
    {
     "data": {
      "text/html": [
       "<div>\n",
       "<style scoped>\n",
       "    .dataframe tbody tr th:only-of-type {\n",
       "        vertical-align: middle;\n",
       "    }\n",
       "\n",
       "    .dataframe tbody tr th {\n",
       "        vertical-align: top;\n",
       "    }\n",
       "\n",
       "    .dataframe thead th {\n",
       "        text-align: right;\n",
       "    }\n",
       "</style>\n",
       "<table border=\"1\" class=\"dataframe\">\n",
       "  <thead>\n",
       "    <tr style=\"text-align: right;\">\n",
       "      <th></th>\n",
       "      <th>minInstalls</th>\n",
       "      <th>score</th>\n",
       "      <th>scoreText</th>\n",
       "      <th>ratings</th>\n",
       "      <th>reviews</th>\n",
       "      <th>price</th>\n",
       "      <th>developerInternalID</th>\n",
       "      <th>updated</th>\n",
       "    </tr>\n",
       "  </thead>\n",
       "  <tbody>\n",
       "    <tr>\n",
       "      <th>count</th>\n",
       "      <td>2.500000e+02</td>\n",
       "      <td>247.000000</td>\n",
       "      <td>247.00000</td>\n",
       "      <td>2.470000e+02</td>\n",
       "      <td>2.470000e+02</td>\n",
       "      <td>250.000000</td>\n",
       "      <td>2.500000e+02</td>\n",
       "      <td>2.500000e+02</td>\n",
       "    </tr>\n",
       "    <tr>\n",
       "      <th>mean</th>\n",
       "      <td>1.988680e+06</td>\n",
       "      <td>3.468628</td>\n",
       "      <td>3.47004</td>\n",
       "      <td>8.851578e+04</td>\n",
       "      <td>3.009538e+04</td>\n",
       "      <td>0.125760</td>\n",
       "      <td>6.757696e+18</td>\n",
       "      <td>1.559887e+12</td>\n",
       "    </tr>\n",
       "    <tr>\n",
       "      <th>std</th>\n",
       "      <td>8.598828e+06</td>\n",
       "      <td>1.676994</td>\n",
       "      <td>1.67737</td>\n",
       "      <td>5.585216e+05</td>\n",
       "      <td>1.797525e+05</td>\n",
       "      <td>0.823029</td>\n",
       "      <td>1.326339e+18</td>\n",
       "      <td>3.816582e+10</td>\n",
       "    </tr>\n",
       "    <tr>\n",
       "      <th>min</th>\n",
       "      <td>0.000000e+00</td>\n",
       "      <td>0.000000</td>\n",
       "      <td>0.00000</td>\n",
       "      <td>0.000000e+00</td>\n",
       "      <td>0.000000e+00</td>\n",
       "      <td>0.000000</td>\n",
       "      <td>4.656447e+18</td>\n",
       "      <td>1.364215e+12</td>\n",
       "    </tr>\n",
       "    <tr>\n",
       "      <th>25%</th>\n",
       "      <td>1.000000e+03</td>\n",
       "      <td>3.615119</td>\n",
       "      <td>3.60000</td>\n",
       "      <td>1.000000e+01</td>\n",
       "      <td>4.000000e+00</td>\n",
       "      <td>0.000000</td>\n",
       "      <td>5.573080e+18</td>\n",
       "      <td>1.546012e+12</td>\n",
       "    </tr>\n",
       "    <tr>\n",
       "      <th>50%</th>\n",
       "      <td>1.000000e+04</td>\n",
       "      <td>4.198646</td>\n",
       "      <td>4.20000</td>\n",
       "      <td>2.080000e+02</td>\n",
       "      <td>7.800000e+01</td>\n",
       "      <td>0.000000</td>\n",
       "      <td>6.681607e+18</td>\n",
       "      <td>1.575879e+12</td>\n",
       "    </tr>\n",
       "    <tr>\n",
       "      <th>75%</th>\n",
       "      <td>1.000000e+05</td>\n",
       "      <td>4.458687</td>\n",
       "      <td>4.50000</td>\n",
       "      <td>6.964000e+03</td>\n",
       "      <td>1.823000e+03</td>\n",
       "      <td>0.000000</td>\n",
       "      <td>7.870399e+18</td>\n",
       "      <td>1.585515e+12</td>\n",
       "    </tr>\n",
       "    <tr>\n",
       "      <th>max</th>\n",
       "      <td>1.000000e+08</td>\n",
       "      <td>5.000000</td>\n",
       "      <td>5.00000</td>\n",
       "      <td>8.029169e+06</td>\n",
       "      <td>2.447003e+06</td>\n",
       "      <td>6.490000</td>\n",
       "      <td>9.221819e+18</td>\n",
       "      <td>1.589565e+12</td>\n",
       "    </tr>\n",
       "  </tbody>\n",
       "</table>\n",
       "</div>"
      ],
      "text/plain": [
       "        minInstalls       score  scoreText       ratings       reviews  \\\n",
       "count  2.500000e+02  247.000000  247.00000  2.470000e+02  2.470000e+02   \n",
       "mean   1.988680e+06    3.468628    3.47004  8.851578e+04  3.009538e+04   \n",
       "std    8.598828e+06    1.676994    1.67737  5.585216e+05  1.797525e+05   \n",
       "min    0.000000e+00    0.000000    0.00000  0.000000e+00  0.000000e+00   \n",
       "25%    1.000000e+03    3.615119    3.60000  1.000000e+01  4.000000e+00   \n",
       "50%    1.000000e+04    4.198646    4.20000  2.080000e+02  7.800000e+01   \n",
       "75%    1.000000e+05    4.458687    4.50000  6.964000e+03  1.823000e+03   \n",
       "max    1.000000e+08    5.000000    5.00000  8.029169e+06  2.447003e+06   \n",
       "\n",
       "            price  developerInternalID       updated  \n",
       "count  250.000000         2.500000e+02  2.500000e+02  \n",
       "mean     0.125760         6.757696e+18  1.559887e+12  \n",
       "std      0.823029         1.326339e+18  3.816582e+10  \n",
       "min      0.000000         4.656447e+18  1.364215e+12  \n",
       "25%      0.000000         5.573080e+18  1.546012e+12  \n",
       "50%      0.000000         6.681607e+18  1.575879e+12  \n",
       "75%      0.000000         7.870399e+18  1.585515e+12  \n",
       "max      6.490000         9.221819e+18  1.589565e+12  "
      ]
     },
     "execution_count": 5,
     "metadata": {},
     "output_type": "execute_result"
    }
   ],
   "source": [
    "df.describe()"
   ]
  },
  {
   "cell_type": "code",
   "execution_count": 6,
   "metadata": {},
   "outputs": [
    {
     "data": {
      "text/plain": [
       "(250, 47)"
      ]
     },
     "execution_count": 6,
     "metadata": {},
     "output_type": "execute_result"
    }
   ],
   "source": [
    "df.shape"
   ]
  },
  {
   "cell_type": "code",
   "execution_count": 7,
   "metadata": {},
   "outputs": [
    {
     "data": {
      "text/plain": [
       "Index(['title', 'description', 'descriptionHTML', 'summary', 'installs',\n",
       "       'minInstalls', 'score', 'scoreText', 'ratings', 'reviews', 'histogram',\n",
       "       'price', 'free', 'currency', 'priceText', 'offersIAP', 'IAPRange',\n",
       "       'size', 'androidVersion', 'androidVersionText', 'developer',\n",
       "       'developerId', 'developerEmail', 'developerWebsite', 'developerAddress',\n",
       "       'privacyPolicy', 'developerInternalID', 'genre', 'genreId', 'icon',\n",
       "       'headerImage', 'screenshots', 'video', 'videoImage', 'contentRating',\n",
       "       'adSupported', 'released', 'updated', 'version', 'recentChanges',\n",
       "       'comments', 'editorsChoice', 'appId', 'url', 'contentRatingDescription',\n",
       "       'familyGenre', 'familyGenreId'],\n",
       "      dtype='object')"
      ]
     },
     "execution_count": 7,
     "metadata": {},
     "output_type": "execute_result"
    }
   ],
   "source": [
    "df.columns"
   ]
  },
  {
   "cell_type": "code",
   "execution_count": 8,
   "metadata": {},
   "outputs": [
    {
     "data": {
      "text/plain": [
       "title                        object\n",
       "description                  object\n",
       "descriptionHTML              object\n",
       "summary                      object\n",
       "installs                     object\n",
       "minInstalls                   int64\n",
       "score                       float64\n",
       "scoreText                   float64\n",
       "ratings                     float64\n",
       "reviews                     float64\n",
       "histogram                    object\n",
       "price                       float64\n",
       "free                           bool\n",
       "currency                     object\n",
       "priceText                    object\n",
       "offersIAP                      bool\n",
       "IAPRange                     object\n",
       "size                         object\n",
       "androidVersion               object\n",
       "androidVersionText           object\n",
       "developer                    object\n",
       "developerId                  object\n",
       "developerEmail               object\n",
       "developerWebsite             object\n",
       "developerAddress             object\n",
       "privacyPolicy                object\n",
       "developerInternalID           int64\n",
       "genre                        object\n",
       "genreId                      object\n",
       "icon                         object\n",
       "headerImage                  object\n",
       "screenshots                  object\n",
       "video                        object\n",
       "videoImage                   object\n",
       "contentRating                object\n",
       "adSupported                    bool\n",
       "released                     object\n",
       "updated                       int64\n",
       "version                      object\n",
       "recentChanges                object\n",
       "comments                     object\n",
       "editorsChoice                  bool\n",
       "appId                        object\n",
       "url                          object\n",
       "contentRatingDescription     object\n",
       "familyGenre                  object\n",
       "familyGenreId                object\n",
       "dtype: object"
      ]
     },
     "execution_count": 8,
     "metadata": {},
     "output_type": "execute_result"
    }
   ],
   "source": [
    "df.dtypes"
   ]
  },
  {
   "cell_type": "code",
   "execution_count": 9,
   "metadata": {},
   "outputs": [
    {
     "data": {
      "text/html": [
       "<div>\n",
       "<style scoped>\n",
       "    .dataframe tbody tr th:only-of-type {\n",
       "        vertical-align: middle;\n",
       "    }\n",
       "\n",
       "    .dataframe tbody tr th {\n",
       "        vertical-align: top;\n",
       "    }\n",
       "\n",
       "    .dataframe thead th {\n",
       "        text-align: right;\n",
       "    }\n",
       "</style>\n",
       "<table border=\"1\" class=\"dataframe\">\n",
       "  <thead>\n",
       "    <tr style=\"text-align: right;\">\n",
       "      <th></th>\n",
       "      <th>title</th>\n",
       "      <th>description</th>\n",
       "      <th>descriptionHTML</th>\n",
       "      <th>summary</th>\n",
       "      <th>installs</th>\n",
       "      <th>minInstalls</th>\n",
       "      <th>score</th>\n",
       "      <th>scoreText</th>\n",
       "      <th>ratings</th>\n",
       "      <th>reviews</th>\n",
       "      <th>...</th>\n",
       "      <th>updated</th>\n",
       "      <th>version</th>\n",
       "      <th>recentChanges</th>\n",
       "      <th>comments</th>\n",
       "      <th>editorsChoice</th>\n",
       "      <th>appId</th>\n",
       "      <th>url</th>\n",
       "      <th>contentRatingDescription</th>\n",
       "      <th>familyGenre</th>\n",
       "      <th>familyGenreId</th>\n",
       "    </tr>\n",
       "  </thead>\n",
       "  <tbody>\n",
       "    <tr>\n",
       "      <th>0</th>\n",
       "      <td>NBA LIVE Mobile Basketball</td>\n",
       "      <td>Choose your path to greatness and build your s...</td>\n",
       "      <td>Choose your path to greatness and build your s...</td>\n",
       "      <td>Choose your path to greatness and build your N...</td>\n",
       "      <td>50,000,000+</td>\n",
       "      <td>50000000</td>\n",
       "      <td>4.089547</td>\n",
       "      <td>4.1</td>\n",
       "      <td>2231922.0</td>\n",
       "      <td>934254.0</td>\n",
       "      <td>...</td>\n",
       "      <td>1589385924000</td>\n",
       "      <td>4.3.40</td>\n",
       "      <td>The NBA LIVE Mobile season keeps moving. Every...</td>\n",
       "      <td>[]</td>\n",
       "      <td>True</td>\n",
       "      <td>com.ea.gp.nbamobile</td>\n",
       "      <td>https://play.google.com/store/apps/details?id=...</td>\n",
       "      <td>NaN</td>\n",
       "      <td>NaN</td>\n",
       "      <td>NaN</td>\n",
       "    </tr>\n",
       "  </tbody>\n",
       "</table>\n",
       "<p>1 rows × 47 columns</p>\n",
       "</div>"
      ],
      "text/plain": [
       "                        title  \\\n",
       "0  NBA LIVE Mobile Basketball   \n",
       "\n",
       "                                         description  \\\n",
       "0  Choose your path to greatness and build your s...   \n",
       "\n",
       "                                     descriptionHTML  \\\n",
       "0  Choose your path to greatness and build your s...   \n",
       "\n",
       "                                             summary     installs  \\\n",
       "0  Choose your path to greatness and build your N...  50,000,000+   \n",
       "\n",
       "   minInstalls     score  scoreText    ratings   reviews  ...        updated  \\\n",
       "0     50000000  4.089547        4.1  2231922.0  934254.0  ...  1589385924000   \n",
       "\n",
       "   version                                      recentChanges comments  \\\n",
       "0   4.3.40  The NBA LIVE Mobile season keeps moving. Every...       []   \n",
       "\n",
       "  editorsChoice                appId  \\\n",
       "0          True  com.ea.gp.nbamobile   \n",
       "\n",
       "                                                 url contentRatingDescription  \\\n",
       "0  https://play.google.com/store/apps/details?id=...                      NaN   \n",
       "\n",
       "  familyGenre familyGenreId  \n",
       "0         NaN           NaN  \n",
       "\n",
       "[1 rows x 47 columns]"
      ]
     },
     "execution_count": 9,
     "metadata": {},
     "output_type": "execute_result"
    }
   ],
   "source": [
    "df.head(1)"
   ]
  },
  {
   "cell_type": "markdown",
   "metadata": {},
   "source": [
    "## Prep data"
   ]
  },
  {
   "cell_type": "code",
   "execution_count": 10,
   "metadata": {},
   "outputs": [],
   "source": [
    "cols_to_filter = ['title','free','price','released','minInstalls']"
   ]
  },
  {
   "cell_type": "code",
   "execution_count": 11,
   "metadata": {},
   "outputs": [],
   "source": [
    "df_filtered = df[cols_to_filter]"
   ]
  },
  {
   "cell_type": "code",
   "execution_count": 12,
   "metadata": {},
   "outputs": [
    {
     "data": {
      "text/html": [
       "<div>\n",
       "<style scoped>\n",
       "    .dataframe tbody tr th:only-of-type {\n",
       "        vertical-align: middle;\n",
       "    }\n",
       "\n",
       "    .dataframe tbody tr th {\n",
       "        vertical-align: top;\n",
       "    }\n",
       "\n",
       "    .dataframe thead th {\n",
       "        text-align: right;\n",
       "    }\n",
       "</style>\n",
       "<table border=\"1\" class=\"dataframe\">\n",
       "  <thead>\n",
       "    <tr style=\"text-align: right;\">\n",
       "      <th></th>\n",
       "      <th>title</th>\n",
       "      <th>free</th>\n",
       "      <th>price</th>\n",
       "      <th>released</th>\n",
       "      <th>minInstalls</th>\n",
       "    </tr>\n",
       "  </thead>\n",
       "  <tbody>\n",
       "    <tr>\n",
       "      <th>0</th>\n",
       "      <td>NBA LIVE Mobile Basketball</td>\n",
       "      <td>True</td>\n",
       "      <td>0.0</td>\n",
       "      <td>Jul 5, 2016</td>\n",
       "      <td>50000000</td>\n",
       "    </tr>\n",
       "    <tr>\n",
       "      <th>1</th>\n",
       "      <td>MBA Lessons - Become Better Managers</td>\n",
       "      <td>True</td>\n",
       "      <td>0.0</td>\n",
       "      <td>Sep 14, 2018</td>\n",
       "      <td>10000</td>\n",
       "    </tr>\n",
       "  </tbody>\n",
       "</table>\n",
       "</div>"
      ],
      "text/plain": [
       "                                  title  free  price      released  \\\n",
       "0            NBA LIVE Mobile Basketball  True    0.0   Jul 5, 2016   \n",
       "1  MBA Lessons - Become Better Managers  True    0.0  Sep 14, 2018   \n",
       "\n",
       "   minInstalls  \n",
       "0     50000000  \n",
       "1        10000  "
      ]
     },
     "execution_count": 12,
     "metadata": {},
     "output_type": "execute_result"
    }
   ],
   "source": [
    "df_filtered.head(2)"
   ]
  },
  {
   "cell_type": "code",
   "execution_count": 13,
   "metadata": {},
   "outputs": [
    {
     "name": "stderr",
     "output_type": "stream",
     "text": [
      "C:\\Users\\HP\\AppData\\Local\\Temp\\ipykernel_1836\\2129633013.py:1: SettingWithCopyWarning: \n",
      "A value is trying to be set on a copy of a slice from a DataFrame.\n",
      "Try using .loc[row_indexer,col_indexer] = value instead\n",
      "\n",
      "See the caveats in the documentation: https://pandas.pydata.org/pandas-docs/stable/user_guide/indexing.html#returning-a-view-versus-a-copy\n",
      "  df_filtered['released'] = pd.to_datetime(df['released'])\n"
     ]
    }
   ],
   "source": [
    "df_filtered['released'] = pd.to_datetime(df['released'])"
   ]
  },
  {
   "cell_type": "code",
   "execution_count": 14,
   "metadata": {},
   "outputs": [
    {
     "data": {
      "text/html": [
       "<div>\n",
       "<style scoped>\n",
       "    .dataframe tbody tr th:only-of-type {\n",
       "        vertical-align: middle;\n",
       "    }\n",
       "\n",
       "    .dataframe tbody tr th {\n",
       "        vertical-align: top;\n",
       "    }\n",
       "\n",
       "    .dataframe thead th {\n",
       "        text-align: right;\n",
       "    }\n",
       "</style>\n",
       "<table border=\"1\" class=\"dataframe\">\n",
       "  <thead>\n",
       "    <tr style=\"text-align: right;\">\n",
       "      <th></th>\n",
       "      <th>title</th>\n",
       "      <th>free</th>\n",
       "      <th>price</th>\n",
       "      <th>released</th>\n",
       "      <th>minInstalls</th>\n",
       "    </tr>\n",
       "  </thead>\n",
       "  <tbody>\n",
       "    <tr>\n",
       "      <th>0</th>\n",
       "      <td>NBA LIVE Mobile Basketball</td>\n",
       "      <td>True</td>\n",
       "      <td>0.0</td>\n",
       "      <td>2016-07-05</td>\n",
       "      <td>50000000</td>\n",
       "    </tr>\n",
       "  </tbody>\n",
       "</table>\n",
       "</div>"
      ],
      "text/plain": [
       "                        title  free  price   released  minInstalls\n",
       "0  NBA LIVE Mobile Basketball  True    0.0 2016-07-05     50000000"
      ]
     },
     "execution_count": 14,
     "metadata": {},
     "output_type": "execute_result"
    }
   ],
   "source": [
    "df_filtered.head(1)"
   ]
  },
  {
   "cell_type": "markdown",
   "metadata": {},
   "source": [
    "## How many apps are paid?"
   ]
  },
  {
   "cell_type": "code",
   "execution_count": 15,
   "metadata": {},
   "outputs": [],
   "source": [
    "paid_apps = df_filtered [df_filtered['free'] == False]"
   ]
  },
  {
   "cell_type": "code",
   "execution_count": 16,
   "metadata": {},
   "outputs": [
    {
     "data": {
      "text/html": [
       "<div>\n",
       "<style scoped>\n",
       "    .dataframe tbody tr th:only-of-type {\n",
       "        vertical-align: middle;\n",
       "    }\n",
       "\n",
       "    .dataframe tbody tr th {\n",
       "        vertical-align: top;\n",
       "    }\n",
       "\n",
       "    .dataframe thead th {\n",
       "        text-align: right;\n",
       "    }\n",
       "</style>\n",
       "<table border=\"1\" class=\"dataframe\">\n",
       "  <thead>\n",
       "    <tr style=\"text-align: right;\">\n",
       "      <th></th>\n",
       "      <th>title</th>\n",
       "      <th>free</th>\n",
       "      <th>price</th>\n",
       "      <th>released</th>\n",
       "      <th>minInstalls</th>\n",
       "    </tr>\n",
       "  </thead>\n",
       "  <tbody>\n",
       "    <tr>\n",
       "      <th>71</th>\n",
       "      <td>Mini MBA: Master in Business Management Review...</td>\n",
       "      <td>False</td>\n",
       "      <td>2.99</td>\n",
       "      <td>2015-04-21</td>\n",
       "      <td>100</td>\n",
       "    </tr>\n",
       "    <tr>\n",
       "      <th>123</th>\n",
       "      <td>NBA 2K20</td>\n",
       "      <td>False</td>\n",
       "      <td>5.99</td>\n",
       "      <td>2019-09-04</td>\n",
       "      <td>100000</td>\n",
       "    </tr>\n",
       "    <tr>\n",
       "      <th>127</th>\n",
       "      <td>MBA Project Management</td>\n",
       "      <td>False</td>\n",
       "      <td>4.99</td>\n",
       "      <td>2011-10-31</td>\n",
       "      <td>10</td>\n",
       "    </tr>\n",
       "    <tr>\n",
       "      <th>129</th>\n",
       "      <td>NBA JAM  by EA SPORTS™</td>\n",
       "      <td>False</td>\n",
       "      <td>4.99</td>\n",
       "      <td>2012-03-14</td>\n",
       "      <td>500000</td>\n",
       "    </tr>\n",
       "    <tr>\n",
       "      <th>134</th>\n",
       "      <td>Essence of MBA degree</td>\n",
       "      <td>False</td>\n",
       "      <td>5.99</td>\n",
       "      <td>2020-02-03</td>\n",
       "      <td>1</td>\n",
       "    </tr>\n",
       "    <tr>\n",
       "      <th>246</th>\n",
       "      <td>CAT MBA Entrance Test Prep PRO</td>\n",
       "      <td>False</td>\n",
       "      <td>6.49</td>\n",
       "      <td>2018-11-07</td>\n",
       "      <td>0</td>\n",
       "    </tr>\n",
       "  </tbody>\n",
       "</table>\n",
       "</div>"
      ],
      "text/plain": [
       "                                                 title   free  price  \\\n",
       "71   Mini MBA: Master in Business Management Review...  False   2.99   \n",
       "123                                           NBA 2K20  False   5.99   \n",
       "127                             MBA Project Management  False   4.99   \n",
       "129                             NBA JAM  by EA SPORTS™  False   4.99   \n",
       "134                              Essence of MBA degree  False   5.99   \n",
       "246                     CAT MBA Entrance Test Prep PRO  False   6.49   \n",
       "\n",
       "      released  minInstalls  \n",
       "71  2015-04-21          100  \n",
       "123 2019-09-04       100000  \n",
       "127 2011-10-31           10  \n",
       "129 2012-03-14       500000  \n",
       "134 2020-02-03            1  \n",
       "246 2018-11-07            0  "
      ]
     },
     "execution_count": 16,
     "metadata": {},
     "output_type": "execute_result"
    }
   ],
   "source": [
    "paid_apps"
   ]
  },
  {
   "cell_type": "code",
   "execution_count": 17,
   "metadata": {},
   "outputs": [
    {
     "name": "stdout",
     "output_type": "stream",
     "text": [
      "Total Number of Paid Apps: 6 \n"
     ]
    }
   ],
   "source": [
    "number_of_paid_apps = len(paid_apps)\n",
    "number_of_free_apps = len(df) - number_of_paid_apps\n",
    "\n",
    "print(f'Total Number of Paid Apps: {number_of_paid_apps} ')"
   ]
  },
  {
   "cell_type": "markdown",
   "metadata": {},
   "source": [
    "We can conclude that out of sample size 250, total 6 apps are paid which is 2.4% only."
   ]
  },
  {
   "cell_type": "code",
   "execution_count": 18,
   "metadata": {},
   "outputs": [],
   "source": [
    "from matplotlib import pyplot as plt"
   ]
  },
  {
   "cell_type": "code",
   "execution_count": 19,
   "metadata": {},
   "outputs": [
    {
     "data": {
      "image/png": "[encoded data removed]",
      "text/plain": [
       "<Figure size 640x480 with 1 Axes>"
      ]
     },
     "metadata": {},
     "output_type": "display_data"
    }
   ],
   "source": [
    "plt.bar(('paid apps', 'free apps'),[number_of_paid_apps,number_of_free_apps], alpha=0.5)\n",
    "plt.ylabel('Number of apps')\n",
    "plt.title('Paid vs Free apps in Playstore')\n",
    "plt.show()"
   ]
  },
  {
   "cell_type": "markdown",
   "metadata": {},
   "source": [
    "## How much money are they making?"
   ]
  },
  {
   "cell_type": "code",
   "execution_count": 20,
   "metadata": {},
   "outputs": [
    {
     "data": {
      "text/plain": [
       "71     2.99\n",
       "123    5.99\n",
       "127    4.99\n",
       "129    4.99\n",
       "134    5.99\n",
       "246    6.49\n",
       "Name: price, dtype: float64"
      ]
     },
     "execution_count": 20,
     "metadata": {},
     "output_type": "execute_result"
    }
   ],
   "source": [
    "paid_apps['price']"
   ]
  },
  {
   "cell_type": "code",
   "execution_count": 21,
   "metadata": {},
   "outputs": [],
   "source": [
    "total = paid_apps['price'] * paid_apps['minInstalls'] * 0.7"
   ]
  },
  {
   "cell_type": "code",
   "execution_count": 22,
   "metadata": {},
   "outputs": [
    {
     "data": {
      "text/plain": [
       "2166048.423"
      ]
     },
     "execution_count": 22,
     "metadata": {},
     "output_type": "execute_result"
    }
   ],
   "source": [
    "sum(total)"
   ]
  },
  {
   "cell_type": "code",
   "execution_count": 23,
   "metadata": {},
   "outputs": [
    {
     "data": {
      "text/html": [
       "<div>\n",
       "<style scoped>\n",
       "    .dataframe tbody tr th:only-of-type {\n",
       "        vertical-align: middle;\n",
       "    }\n",
       "\n",
       "    .dataframe tbody tr th {\n",
       "        vertical-align: top;\n",
       "    }\n",
       "\n",
       "    .dataframe thead th {\n",
       "        text-align: right;\n",
       "    }\n",
       "</style>\n",
       "<table border=\"1\" class=\"dataframe\">\n",
       "  <thead>\n",
       "    <tr style=\"text-align: right;\">\n",
       "      <th></th>\n",
       "      <th>0</th>\n",
       "    </tr>\n",
       "  </thead>\n",
       "  <tbody>\n",
       "    <tr>\n",
       "      <th>71</th>\n",
       "      <td>209.300</td>\n",
       "    </tr>\n",
       "    <tr>\n",
       "      <th>123</th>\n",
       "      <td>419300.000</td>\n",
       "    </tr>\n",
       "    <tr>\n",
       "      <th>127</th>\n",
       "      <td>34.930</td>\n",
       "    </tr>\n",
       "    <tr>\n",
       "      <th>129</th>\n",
       "      <td>1746500.000</td>\n",
       "    </tr>\n",
       "    <tr>\n",
       "      <th>134</th>\n",
       "      <td>4.193</td>\n",
       "    </tr>\n",
       "    <tr>\n",
       "      <th>246</th>\n",
       "      <td>0.000</td>\n",
       "    </tr>\n",
       "  </tbody>\n",
       "</table>\n",
       "</div>"
      ],
      "text/plain": [
       "               0\n",
       "71       209.300\n",
       "123   419300.000\n",
       "127       34.930\n",
       "129  1746500.000\n",
       "134        4.193\n",
       "246        0.000"
      ]
     },
     "execution_count": 23,
     "metadata": {},
     "output_type": "execute_result"
    }
   ],
   "source": [
    "pd.DataFrame(total)"
   ]
  },
  {
   "cell_type": "code",
   "execution_count": 24,
   "metadata": {},
   "outputs": [
    {
     "name": "stderr",
     "output_type": "stream",
     "text": [
      "C:\\Users\\HP\\AppData\\Local\\Temp\\ipykernel_1836\\4079088515.py:1: SettingWithCopyWarning: \n",
      "A value is trying to be set on a copy of a slice from a DataFrame.\n",
      "Try using .loc[row_indexer,col_indexer] = value instead\n",
      "\n",
      "See the caveats in the documentation: https://pandas.pydata.org/pandas-docs/stable/user_guide/indexing.html#returning-a-view-versus-a-copy\n",
      "  paid_apps['profit'] = pd.DataFrame(total)\n"
     ]
    }
   ],
   "source": [
    "paid_apps['profit'] = pd.DataFrame(total)"
   ]
  },
  {
   "cell_type": "code",
   "execution_count": 25,
   "metadata": {},
   "outputs": [
    {
     "data": {
      "text/html": [
       "<div>\n",
       "<style scoped>\n",
       "    .dataframe tbody tr th:only-of-type {\n",
       "        vertical-align: middle;\n",
       "    }\n",
       "\n",
       "    .dataframe tbody tr th {\n",
       "        vertical-align: top;\n",
       "    }\n",
       "\n",
       "    .dataframe thead th {\n",
       "        text-align: right;\n",
       "    }\n",
       "</style>\n",
       "<table border=\"1\" class=\"dataframe\">\n",
       "  <thead>\n",
       "    <tr style=\"text-align: right;\">\n",
       "      <th></th>\n",
       "      <th>title</th>\n",
       "      <th>free</th>\n",
       "      <th>price</th>\n",
       "      <th>released</th>\n",
       "      <th>minInstalls</th>\n",
       "      <th>profit</th>\n",
       "    </tr>\n",
       "  </thead>\n",
       "  <tbody>\n",
       "    <tr>\n",
       "      <th>71</th>\n",
       "      <td>Mini MBA: Master in Business Management Review...</td>\n",
       "      <td>False</td>\n",
       "      <td>2.99</td>\n",
       "      <td>2015-04-21</td>\n",
       "      <td>100</td>\n",
       "      <td>209.300</td>\n",
       "    </tr>\n",
       "    <tr>\n",
       "      <th>123</th>\n",
       "      <td>NBA 2K20</td>\n",
       "      <td>False</td>\n",
       "      <td>5.99</td>\n",
       "      <td>2019-09-04</td>\n",
       "      <td>100000</td>\n",
       "      <td>419300.000</td>\n",
       "    </tr>\n",
       "    <tr>\n",
       "      <th>127</th>\n",
       "      <td>MBA Project Management</td>\n",
       "      <td>False</td>\n",
       "      <td>4.99</td>\n",
       "      <td>2011-10-31</td>\n",
       "      <td>10</td>\n",
       "      <td>34.930</td>\n",
       "    </tr>\n",
       "    <tr>\n",
       "      <th>129</th>\n",
       "      <td>NBA JAM  by EA SPORTS™</td>\n",
       "      <td>False</td>\n",
       "      <td>4.99</td>\n",
       "      <td>2012-03-14</td>\n",
       "      <td>500000</td>\n",
       "      <td>1746500.000</td>\n",
       "    </tr>\n",
       "    <tr>\n",
       "      <th>134</th>\n",
       "      <td>Essence of MBA degree</td>\n",
       "      <td>False</td>\n",
       "      <td>5.99</td>\n",
       "      <td>2020-02-03</td>\n",
       "      <td>1</td>\n",
       "      <td>4.193</td>\n",
       "    </tr>\n",
       "    <tr>\n",
       "      <th>246</th>\n",
       "      <td>CAT MBA Entrance Test Prep PRO</td>\n",
       "      <td>False</td>\n",
       "      <td>6.49</td>\n",
       "      <td>2018-11-07</td>\n",
       "      <td>0</td>\n",
       "      <td>0.000</td>\n",
       "    </tr>\n",
       "  </tbody>\n",
       "</table>\n",
       "</div>"
      ],
      "text/plain": [
       "                                                 title   free  price  \\\n",
       "71   Mini MBA: Master in Business Management Review...  False   2.99   \n",
       "123                                           NBA 2K20  False   5.99   \n",
       "127                             MBA Project Management  False   4.99   \n",
       "129                             NBA JAM  by EA SPORTS™  False   4.99   \n",
       "134                              Essence of MBA degree  False   5.99   \n",
       "246                     CAT MBA Entrance Test Prep PRO  False   6.49   \n",
       "\n",
       "      released  minInstalls       profit  \n",
       "71  2015-04-21          100      209.300  \n",
       "123 2019-09-04       100000   419300.000  \n",
       "127 2011-10-31           10       34.930  \n",
       "129 2012-03-14       500000  1746500.000  \n",
       "134 2020-02-03            1        4.193  \n",
       "246 2018-11-07            0        0.000  "
      ]
     },
     "execution_count": 25,
     "metadata": {},
     "output_type": "execute_result"
    }
   ],
   "source": [
    "paid_apps"
   ]
  },
  {
   "cell_type": "code",
   "execution_count": 26,
   "metadata": {},
   "outputs": [
    {
     "data": {
      "text/plain": [
       "<Axes: >"
      ]
     },
     "execution_count": 26,
     "metadata": {},
     "output_type": "execute_result"
    },
    {
     "data": {
      "image/png": "[encoded data removed]",
      "text/plain": [
       "<Figure size 640x480 with 1 Axes>"
      ]
     },
     "metadata": {},
     "output_type": "display_data"
    }
   ],
   "source": [
    "paid_apps['profit'].hist()"
   ]
  },
  {
   "cell_type": "markdown",
   "metadata": {},
   "source": [
    "## When were these apps released?\n"
   ]
  },
  {
   "cell_type": "code",
   "execution_count": 27,
   "metadata": {},
   "outputs": [
    {
     "data": {
      "text/plain": [
       "71    2015-04-21\n",
       "123   2019-09-04\n",
       "127   2011-10-31\n",
       "129   2012-03-14\n",
       "134   2020-02-03\n",
       "246   2018-11-07\n",
       "Name: released, dtype: datetime64[ns]"
      ]
     },
     "execution_count": 27,
     "metadata": {},
     "output_type": "execute_result"
    }
   ],
   "source": [
    "paid_apps['released']"
   ]
  },
  {
   "cell_type": "code",
   "execution_count": 28,
   "metadata": {},
   "outputs": [
    {
     "name": "stderr",
     "output_type": "stream",
     "text": [
      "C:\\Users\\HP\\AppData\\Local\\Temp\\ipykernel_1836\\3667097661.py:1: SettingWithCopyWarning: \n",
      "A value is trying to be set on a copy of a slice from a DataFrame.\n",
      "Try using .loc[row_indexer,col_indexer] = value instead\n",
      "\n",
      "See the caveats in the documentation: https://pandas.pydata.org/pandas-docs/stable/user_guide/indexing.html#returning-a-view-versus-a-copy\n",
      "  paid_apps['released_year'] = paid_apps['released'].apply(lambda x: x.year)\n"
     ]
    }
   ],
   "source": [
    "paid_apps['released_year'] = paid_apps['released'].apply(lambda x: x.year)"
   ]
  },
  {
   "cell_type": "code",
   "execution_count": 29,
   "metadata": {},
   "outputs": [
    {
     "data": {
      "text/plain": [
       "71     2015\n",
       "123    2019\n",
       "127    2011\n",
       "129    2012\n",
       "134    2020\n",
       "246    2018\n",
       "Name: released_year, dtype: int64"
      ]
     },
     "execution_count": 29,
     "metadata": {},
     "output_type": "execute_result"
    }
   ],
   "source": [
    "paid_apps['released_year']"
   ]
  },
  {
   "cell_type": "code",
   "execution_count": 30,
   "metadata": {},
   "outputs": [
    {
     "data": {
      "text/plain": [
       "array([[<Axes: title={'center': 'released_year'}>]], dtype=object)"
      ]
     },
     "execution_count": 30,
     "metadata": {},
     "output_type": "execute_result"
    },
    {
     "data": {
      "image/png": "[encoded data removed]",
      "text/plain": [
       "<Figure size 640x480 with 1 Axes>"
      ]
     },
     "metadata": {},
     "output_type": "display_data"
    }
   ],
   "source": [
    "paid_apps.hist('released_year')"
   ]
  },
  {
   "cell_type": "markdown",
   "metadata": {},
   "source": [
    "END OF PROJECT"
   ]
  }
 ],
 "metadata": {
  "kernelspec": {
   "display_name": "base",
   "language": "python",
   "name": "python3"
  },
  "language_info": {
   "codemirror_mode": {
    "name": "ipython",
    "version": 3
   },
   "file_extension": ".py",
   "mimetype": "text/x-python",
   "name": "python",
   "nbconvert_exporter": "python",
   "pygments_lexer": "ipython3",
   "version": "3.12.7"
  }
 },
 "nbformat": 4,
 "nbformat_minor": 4
}
